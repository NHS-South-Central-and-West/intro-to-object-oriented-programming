{
 "cells": [
  {
   "cell_type": "markdown",
   "metadata": {},
   "source": [
    "# Object-Oriented Programming (OOP)"
   ]
  },
  {
   "cell_type": "markdown",
   "metadata": {},
   "source": [
    "_This notebook adds some practical aspects of object-oriented programming to the conceptual description in the presentation._"
   ]
  },
  {
   "cell_type": "markdown",
   "metadata": {},
   "source": [
    "In the Introduction to Object-Oriented Programming presentation, the concept of Encapsulation was introduced, where data (attributes) and functions/behaviours (methods) are bundled together. This occurs within individual objects each representing an entity.\n",
    "\n",
    "Compare this with trying to keep track of many entities and their associated data in lists or dictionaries."
   ]
  },
  {
   "cell_type": "code",
   "execution_count": null,
   "metadata": {},
   "outputs": [],
   "source": [
    "# A nested dictionary where the outer key is the unique identifier and the inner dictionary contains key-value pairs holding the data.\n",
    "\n",
    "health_professionals_dict = {1234567 : {\"surname\": \"Pig\", \"firstname\": \"Peppa\", \"employer_id\": \"A1A1A\"},\n",
    "                             7654321 : {\"surname\": \"Dog\", \"firstname\": \"Duggee\", \"employer_id\": \"Z9Z9Z\"}\n",
    "                             }"
   ]
  },
  {
   "cell_type": "code",
   "execution_count": null,
   "metadata": {},
   "outputs": [],
   "source": [
    "# Here's how you would access an element\n",
    "\n",
    "print(health_professionals_dict[7654321][\"firstname\"])"
   ]
  },
  {
   "cell_type": "markdown",
   "metadata": {},
   "source": [
    "Using nested dictionaries or separate lists can lead to errors when an element is missing. In the case of lists, you need to remember which index number you need to recover the element that you want."
   ]
  },
  {
   "cell_type": "code",
   "execution_count": null,
   "metadata": {},
   "outputs": [],
   "source": [
    "# Uncomment the last line to see the error that would be returned when the same index number\n",
    "# is used, but that element is missing.\n",
    "\n",
    "pep = [1234567, \"Pig\", \"Peppa\", \"A1A1A\"]\n",
    "dug = [7654321, \"Dog\", \"Duggee\"]\n",
    "\n",
    "print(pep[3])\n",
    "\n",
    "# print(dug[3])"
   ]
  },
  {
   "cell_type": "markdown",
   "metadata": {},
   "source": [
    "Updating key-value pairs in dictionaries can be [fiddly](https://www.geeksforgeeks.org/python-replace-dictionary-value-from-other-dictionary/), whereas updating object attributes is really quite easy."
   ]
  },
  {
   "cell_type": "markdown",
   "metadata": {},
   "source": [
    "Let's first remind ourselves how to create classes, instantiate objects, and create child classes."
   ]
  },
  {
   "cell_type": "markdown",
   "metadata": {},
   "source": [
    "**First of all, creating a class:**"
   ]
  },
  {
   "cell_type": "code",
   "execution_count": null,
   "metadata": {},
   "outputs": [],
   "source": [
    "# Use the \"class\" keyword. Class names should start with a \n",
    "# capital letter\n",
    "class HealthProfessional:\n",
    "  # Class attributes go here. The value of this attribute \n",
    "  # will be the same for all object instances\n",
    "  daily_capacity = 7.5 # number of working hours per day\n",
    "\n",
    "  # Constructor method. It always contains \"self\" followed by \n",
    "  # the parameters passed at instantiation\n",
    "  def __init__(self, assignment_number, division, department):\n",
    "    self.assignment_number = assignment_number                 \n",
    "    self.division = division                  # Instance attributes                \n",
    "    self.department = department                              \n",
    "\n",
    "  # Class methods. Always have at least \"self\" as a parameter, \n",
    "  # followed by any parameters passed to the object\n",
    "  def treat_patient(self,patient_id):\n",
    "    print(f'Health professional {self.assignment_number} treated patient {patient_id}')"
   ]
  },
  {
   "cell_type": "markdown",
   "metadata": {},
   "source": [
    "Then we can **instantiate** some objects. That is to say, create objects from the HealthProfessional class template."
   ]
  },
  {
   "cell_type": "code",
   "execution_count": null,
   "metadata": {},
   "outputs": [],
   "source": [
    "doctor_duggee = HealthProfessional(12345,\"A\",\"Surgery\")\n",
    "doctor_peppa = HealthProfessional(54321,\"B\",\"Cancer Care\")\n",
    "\n",
    "# Note that we can also use the keywords when instantiating an object. More typing, but\n",
    "# potentially more readable later:\n",
    "\n",
    "# doctor_duggee = HealthProfessional(assignment_number= 12345,division= \"A\", department=\"Surgery\")\n"
   ]
  },
  {
   "cell_type": "markdown",
   "metadata": {},
   "source": [
    "We can easily access attributes of the object using the `object_name.attribute_name` syntax."
   ]
  },
  {
   "cell_type": "code",
   "execution_count": null,
   "metadata": {},
   "outputs": [],
   "source": [
    "doctor_duggee.department"
   ]
  },
  {
   "cell_type": "code",
   "execution_count": null,
   "metadata": {},
   "outputs": [],
   "source": [
    "doctor_peppa.department"
   ]
  },
  {
   "cell_type": "markdown",
   "metadata": {},
   "source": [
    "\"department\" is an _instance attribute_ since it is particular to the object. Let's have a look at the _class attribute_ \"daily_capacity\".\n",
    "\n",
    "Class attributes contain default values that are _common to all objects derived from a class_.\n",
    "\n",
    "Note that we did not have to pass a value for \"daily_capacity\" when we instantiated the objects."
   ]
  },
  {
   "cell_type": "code",
   "execution_count": null,
   "metadata": {},
   "outputs": [],
   "source": [
    "print(f'Health professional {doctor_peppa.assignment_number} has {doctor_peppa.daily_capacity} hours\\' capacity per day')\n",
    "print(f'Health professional {doctor_duggee.assignment_number} has {doctor_duggee.daily_capacity} hours\\' capacity per day')"
   ]
  },
  {
   "cell_type": "markdown",
   "metadata": {},
   "source": [
    "Now we can have a look at how easy it is to update an object's attributes. It's as simple as assigning a new value to the attribute."
   ]
  },
  {
   "cell_type": "code",
   "execution_count": null,
   "metadata": {},
   "outputs": [],
   "source": [
    "doctor_peppa.department = \"Medicine for Older Persons\"\n",
    "\n",
    "doctor_peppa.department"
   ]
  },
  {
   "cell_type": "markdown",
   "metadata": {},
   "source": [
    "We can also update the default value of a class attribute for a given object. Remember that the values of class attributes all _start_ the same for all objects created from a class."
   ]
  },
  {
   "cell_type": "code",
   "execution_count": null,
   "metadata": {},
   "outputs": [],
   "source": [
    "doctor_duggee.daily_capacity = 8\n",
    "\n",
    "print(f'Peppa\\'s daily capacity: {doctor_peppa.daily_capacity} hours.')\n",
    "print(f'Duggee\\'s daily capacity: {doctor_duggee.daily_capacity} hours.')"
   ]
  },
  {
   "cell_type": "markdown",
   "metadata": {},
   "source": [
    "Let's not forget the \"treat_patient\" method. This is called in the same way as we would access an attribute, but we have to pass a patient name as a parameter (to make sure someone gets treated!)"
   ]
  },
  {
   "cell_type": "code",
   "execution_count": null,
   "metadata": {},
   "outputs": [],
   "source": [
    "doctor_duggee.treat_patient(\"Betty\")\n",
    "doctor_peppa.treat_patient(\"George\")"
   ]
  },
  {
   "cell_type": "markdown",
   "metadata": {},
   "source": [
    "#### Now let's turn out attention to inheritance and creating child classes"
   ]
  },
  {
   "cell_type": "code",
   "execution_count": null,
   "metadata": {},
   "outputs": [],
   "source": [
    "# Create the child class\n",
    "\n",
    "# The parent class goes in parentheses after the child class name\n",
    "\n",
    "# The constructor method is followed by the self, the inherited attributes and any new attributes as parameters.\n",
    "\n",
    "class Doctor(HealthProfessional):\n",
    "    def __init__(self,assignment_number,division,department,seniority):\n",
    "        self.seniority = seniority\n",
    "        super().__init__(assignment_number,division,department) # this line draws down the attributes from the parent class.\n",
    "\n",
    "  # Adding a new method to the child class\n",
    "    def discharge_patient(self,patient_id):\n",
    "        print(f'Doctor {self.assignment_number} discharged patient {patient_id}')\n",
    "\n",
    "# The \"treat_patient\" method is inherited from HealthProfessional. There's no\n",
    "# equivalent of super() for methods. Inheritance of methods happens automatically."
   ]
  },
  {
   "cell_type": "code",
   "execution_count": null,
   "metadata": {},
   "outputs": [],
   "source": [
    "# We need to instantiate Doctor Duggee as a Doctor. He is currently a HealthProfessional\n",
    "\n",
    "doctor_duggee = Doctor(\"12345\",\"A\",\"Surgery\",\"Consultant\")\n",
    "\n",
    "doctor_duggee.treat_patient(\"Betty\")\n",
    "doctor_duggee.discharge_patient(\"Betty\")\n",
    "print(f'Doctor {doctor_duggee.assignment_number} is a {doctor_duggee.seniority}')\n",
    "\n",
    "# Note how the \"treat_patient\" method still says \"Health professional\". This was\n",
    "# unintended, but it neatly shows how this method has been inherited from the\n",
    "# HealthProfessional class!"
   ]
  },
  {
   "cell_type": "markdown",
   "metadata": {},
   "source": [
    "#### Here are a few more practical tips for accessing information about objects"
   ]
  },
  {
   "cell_type": "markdown",
   "metadata": {},
   "source": [
    "Check which class an object is:"
   ]
  },
  {
   "cell_type": "code",
   "execution_count": null,
   "metadata": {},
   "outputs": [],
   "source": [
    "type(doctor_peppa)"
   ]
  },
  {
   "cell_type": "markdown",
   "metadata": {},
   "source": [
    "Checking whether a child class object belongs to a parent class"
   ]
  },
  {
   "cell_type": "code",
   "execution_count": null,
   "metadata": {},
   "outputs": [],
   "source": [
    "isinstance(doctor_duggee,HealthProfessional)"
   ]
  },
  {
   "cell_type": "markdown",
   "metadata": {},
   "source": [
    "**The `__str__()` method**\n",
    "\n",
    "This is an example of what is known as a \"dunder\" method [from **D**ouble **UNDER**score] (`__init__` is also a dunder method).\n",
    "\n",
    "It is useful for providing descriptive information about an object. You can simply use the `print` function on an object to return the stored information.\n",
    "\n",
    "Let's create a `Nurse` child class that contains the `__str__` method."
   ]
  },
  {
   "cell_type": "code",
   "execution_count": null,
   "metadata": {},
   "outputs": [],
   "source": [
    "class Nurse(HealthProfessional):\n",
    "    def __init__(self,assignment_number,division,department,band,role):\n",
    "        self.band = band\n",
    "        self.role = role\n",
    "        super().__init__(assignment_number,division,department) # this line draws down the attributes from the parent class.\n",
    "\n",
    "  # Adding a new method to the child class\n",
    "    def take_readings(self,patient_id):\n",
    "        print(f'Nurse {self.assignment_number} took the vital signs readings of {patient_id}')\n",
    "\n",
    "  # Adding the __str__ method. Use the \"return\" keyword ahead of the string that you want to return.\n",
    "    def __str__(self):\n",
    "        return f'''This is a Nurse object. It represents nurse {self.assignment_number}, who\n",
    "works in Division {self.division}, {self.department} department. They are a band \n",
    "{self.band} {self.role}. Their daily capacity is {self.daily_capacity} working hours.'''"
   ]
  },
  {
   "cell_type": "code",
   "execution_count": null,
   "metadata": {},
   "outputs": [],
   "source": [
    "nurse_happy = Nurse(10101,\"C\",\"Ophthalmology\",5,\"Staff Nurse\")\n",
    "\n",
    "print(nurse_happy)"
   ]
  },
  {
   "cell_type": "markdown",
   "metadata": {},
   "source": [
    "It is also possible to include type hints for the data types used by each of the parameters accepted by the class.\n",
    "\n",
    "In the parentheses following the method name, write `attribute : data_type`\n",
    "\n",
    "Let's redfine the `Nurse` class, this time specifying the data types."
   ]
  },
  {
   "cell_type": "code",
   "execution_count": null,
   "metadata": {},
   "outputs": [],
   "source": [
    "class Nurse(HealthProfessional):\n",
    "    def __init__(self, assignment_number: int, division: str, department: str, band: str, role: str):\n",
    "        self.band = band\n",
    "        self.role = role\n",
    "        super().__init__(assignment_number,division,department) # this line draws down the attributes from the parent class.\n",
    "\n",
    "  # Adding a new method to the child class\n",
    "    def take_readings(self,patient_id: int):\n",
    "        print(f'Nurse {self.assignment_number} took the vital signs readings of {patient_id}')\n",
    "\n",
    "  # Adding the __str__ method. Use the \"return\" keyword ahead of the string that you want to return.\n",
    "    def __str__(self):\n",
    "        return f'''This is a Nurse object. It represents nurse {self.assignment_number}, who\n",
    "works in Division {self.division}, {self.department} department. They are a band \n",
    "{self.band} {self.role}. Their daily capacity is {self.daily_capacity} working hours.'''"
   ]
  },
  {
   "cell_type": "markdown",
   "metadata": {},
   "source": [
    "Division, department, band and role have been defined as strings. Band has been defined as a string, because it can contain letters as well as numbers (e.g. 8a)\n",
    "\n",
    "Assignment number and patient ID have been defined as integers since numeric values will be passed. In reality, you would probably define these as strings, because they just need to be unique identifiers and we don't want to be able to perfom a mathematical operation on them accidentally by another part of the program (which could happen if they are recorded as integers, floats etc.). Integers have been included here in this simple example for a bit of variety.\n",
    "\n",
    "Notice that when you start entering the parameters, there is a tooltip reminding you which parameters are required and which data types they ought to be.\n",
    "\n",
    "**Warning:** Note that, due to Python's _dynamic typing_ feature, where data types are decided by Python at runtime, the data types specified as they have above **will not be enforced**, i.e. an error will not be returned if the \"wrong\" data types are used. This can become a problem when an unintended data type can lead to unexpected consequences elsewhere in the program.\n",
    "\n",
    "Let's instantiate two `Nurse` objects, one using the recommended data types, and one not. Both of them will run fine."
   ]
  },
  {
   "cell_type": "code",
   "execution_count": null,
   "metadata": {},
   "outputs": [],
   "source": [
    "nurse_suzy = Nurse(999999, \"D\",\"Genito-Urinary Medicine\",\"8a\", \"Advanced Nurse Practitioner\")\n",
    "\n",
    "print(nurse_suzy)"
   ]
  },
  {
   "cell_type": "code",
   "execution_count": null,
   "metadata": {},
   "outputs": [],
   "source": [
    "# Try running this code where the data types are not the ones suggested. It will still run.\n",
    "\n",
    "nurse_pedro = Nurse(\"999999\", \"D\",\"Genito-Urinary Medicine\",8, \"Advanced Nurse Practitioner\")\n",
    "\n",
    "print(nurse_pedro)"
   ]
  },
  {
   "cell_type": "markdown",
   "metadata": {},
   "source": [
    "Let's look at how we would need to define the `Nurse` class to ensure that the data types are enforced."
   ]
  },
  {
   "cell_type": "code",
   "execution_count": null,
   "metadata": {},
   "outputs": [],
   "source": [
    "class Nurse(HealthProfessional):\n",
    "    def __init__(self, assignment_number: int, division: str, department: str, band: int, role: str):\n",
    "        # Enforce type checking\n",
    "        if not isinstance(assignment_number, int):\n",
    "            raise TypeError(\"Assignment_number must be an integer\")\n",
    "        if not isinstance(division, str):\n",
    "            raise TypeError(\"Division must be a string\")\n",
    "        if not isinstance(department, str):\n",
    "            raise TypeError(\"Department must be a string\")\n",
    "        if not isinstance(band, int):\n",
    "            raise TypeError(\"Band must be an integer\")\n",
    "        if not isinstance(role, str):\n",
    "            raise TypeError(\"Role must be a string\")\n",
    "        \n",
    "        # Assign attributes\n",
    "        self.band = band\n",
    "        self.role = role\n",
    "        \n",
    "        # Call the parent class constructor\n",
    "        super().__init__(assignment_number, division, department)\n",
    "    \n",
    "    def take_readings(self, patient_id: int):\n",
    "        if not isinstance(patient_id, int):\n",
    "            raise TypeError(\"patient_id must be an integer\")\n",
    "        print(f'Nurse {self.assignment_number} took the vital signs readings of {patient_id}')  \n",
    "        \n",
    "    # Adding the __str__ method. Use the \"return\" keyword ahead of the string that you want to return.\n",
    "    def __str__(self):\n",
    "        return f'''This is a Nurse object. It represents nurse {self.assignment_number}, who\n",
    "works in Division {self.division}, {self.department} department. They are a band \n",
    "{self.band} {self.role}. Their daily capacity is {self.daily_capacity} working hours.'''\n"
   ]
  }
 ],
 "metadata": {
  "kernelspec": {
   "display_name": ".venv",
   "language": "python",
   "name": "python3"
  },
  "language_info": {
   "codemirror_mode": {
    "name": "ipython",
    "version": 3
   },
   "file_extension": ".py",
   "mimetype": "text/x-python",
   "name": "python",
   "nbconvert_exporter": "python",
   "pygments_lexer": "ipython3",
   "version": "3.12.7"
  }
 },
 "nbformat": 4,
 "nbformat_minor": 2
}
